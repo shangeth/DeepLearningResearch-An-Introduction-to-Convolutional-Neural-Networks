{
  "nbformat": 4,
  "nbformat_minor": 0,
  "metadata": {
    "colab": {
      "name": "TF-ConvNet.ipynb",
      "version": "0.3.2",
      "provenance": [],
      "collapsed_sections": []
    },
    "kernelspec": {
      "name": "python3",
      "display_name": "Python 3"
    },
    "accelerator": "GPU"
  },
  "cells": [
    {
      "metadata": {
        "id": "B6QT2TB34R2C",
        "colab_type": "code",
        "colab": {}
      },
      "cell_type": "code",
      "source": [
        "%matplotlib inline\n",
        "import matplotlib.pyplot as plt\n",
        "import tensorflow as tf\n",
        "import numpy as np\n",
        "from sklearn.metrics import confusion_matrix\n",
        "import time\n",
        "from datetime import timedelta\n",
        "import math"
      ],
      "execution_count": 0,
      "outputs": []
    },
    {
      "metadata": {
        "id": "9nMHQ-4PJ6hz",
        "colab_type": "code",
        "colab": {
          "base_uri": "https://localhost:8080/",
          "height": 34
        },
        "outputId": "53b99cff-f10a-44e7-f0e6-5cb5c37e3628"
      },
      "cell_type": "code",
      "source": [
        "tf.__version__"
      ],
      "execution_count": 134,
      "outputs": [
        {
          "output_type": "execute_result",
          "data": {
            "text/plain": [
              "'1.12.0-rc1'"
            ]
          },
          "metadata": {
            "tags": []
          },
          "execution_count": 134
        }
      ]
    },
    {
      "metadata": {
        "id": "VpDQBhL3J9Jj",
        "colab_type": "code",
        "colab": {}
      },
      "cell_type": "code",
      "source": [
        "fs1 = 5 #filter size = 5\n",
        "nf1 = 16 #no of filter = 16\n",
        "\n",
        "fs2 = 5\n",
        "nf2 = 36\n",
        "\n",
        "fcs = 128 # fully connected size"
      ],
      "execution_count": 0,
      "outputs": []
    },
    {
      "metadata": {
        "id": "ns3DJfc2KPnL",
        "colab_type": "code",
        "colab": {
          "base_uri": "https://localhost:8080/",
          "height": 85
        },
        "outputId": "5a5d60bd-ae62-475d-91d7-cca6bf209c48"
      },
      "cell_type": "code",
      "source": [
        "from tensorflow.examples.tutorials.mnist import input_data\n",
        "data = input_data.read_data_sets('data/MNIST/', one_hot=True)"
      ],
      "execution_count": 136,
      "outputs": [
        {
          "output_type": "stream",
          "text": [
            "Extracting data/MNIST/train-images-idx3-ubyte.gz\n",
            "Extracting data/MNIST/train-labels-idx1-ubyte.gz\n",
            "Extracting data/MNIST/t10k-images-idx3-ubyte.gz\n",
            "Extracting data/MNIST/t10k-labels-idx1-ubyte.gz\n"
          ],
          "name": "stdout"
        }
      ]
    },
    {
      "metadata": {
        "id": "JqyNv1ZvLEDl",
        "colab_type": "code",
        "colab": {}
      },
      "cell_type": "code",
      "source": [
        "data.test.cls = np.array([label.argmax() for label in data.test.labels])"
      ],
      "execution_count": 0,
      "outputs": []
    },
    {
      "metadata": {
        "id": "OvcXJU5pKWT4",
        "colab_type": "code",
        "colab": {}
      },
      "cell_type": "code",
      "source": [
        "img_size = 28\n",
        "img_size_flat = img_size*img_size\n",
        "img_shape=(img_size, img_size)\n",
        "num_classes = len(data.train.labels[0])\n",
        "num_channels = 1"
      ],
      "execution_count": 0,
      "outputs": []
    },
    {
      "metadata": {
        "id": "FinK1l36KdlP",
        "colab_type": "code",
        "colab": {}
      },
      "cell_type": "code",
      "source": [
        "def plot_img(images, cls_true, cls_pred=None):\n",
        "  fig, axes = plt.subplots(3,3)\n",
        "  fig.subplots_adjust(hspace=0.3, wspace=0.3)\n",
        "  \n",
        "  for i, ax in enumerate(axes.flat):\n",
        "    ax.imshow(images[i].reshape(img_shape), cmap='binary')\n",
        "    \n",
        "    if cls_pred is None:\n",
        "      xlabel = 'True : {}'.format(cls_true[i])\n",
        "    else:\n",
        "      xlabel = 'True: {}, Pred: {}'.format(cls_true[i],cls_pred[i])\n",
        "      \n",
        "    ax.set_xlabel(xlabel)\n",
        "    \n",
        "    ax.set_xticks([])\n",
        "    ax.set_yticks([])\n",
        "  plt.show()"
      ],
      "execution_count": 0,
      "outputs": []
    },
    {
      "metadata": {
        "id": "W4poPz3NK78L",
        "colab_type": "code",
        "colab": {
          "base_uri": "https://localhost:8080/",
          "height": 262
        },
        "outputId": "469a9c92-5be3-4ba4-caa3-51daabc6daba"
      },
      "cell_type": "code",
      "source": [
        "images = data.test.images[0:9]\n",
        "cls_true = data.test.cls[0:9]\n",
        "\n",
        "plot_img(images, cls_true)"
      ],
      "execution_count": 140,
      "outputs": [
        {
          "output_type": "display_data",
          "data": {
            "image/png": "[encoded data removed]",
            "text/plain": [
              "<matplotlib.figure.Figure at 0x7f7ff0d18630>"
            ]
          },
          "metadata": {
            "tags": []
          }
        }
      ]
    },
    {
      "metadata": {
        "id": "YKi2D7vcLK98",
        "colab_type": "text"
      },
      "cell_type": "markdown",
      "source": [
        "# Tensorflow Graph"
      ]
    },
    {
      "metadata": {
        "id": "_6onamZbK-ln",
        "colab_type": "code",
        "colab": {}
      },
      "cell_type": "code",
      "source": [
        "def new_weights(shape):\n",
        "    return tf.Variable(tf.truncated_normal(shape, stddev=0.05))\n",
        "  \n",
        "def new_biases(length):\n",
        "    return tf.Variable(tf.constant(0.05, shape=[length]))"
      ],
      "execution_count": 0,
      "outputs": []
    },
    {
      "metadata": {
        "id": "ywjsWgskLRDd",
        "colab_type": "code",
        "colab": {}
      },
      "cell_type": "code",
      "source": [
        "def single_conv_layer(input, num_input_channels, filter_size, num_filters, use_pooling=True):\n",
        "  shape = [filter_size, filter_size, num_input_channels, num_filters] #shape of filter/weight\n",
        "  weights = new_weights(shape=shape)\n",
        "  biases = new_biases(length=num_filters)\n",
        "  \n",
        "  layer = tf.nn.conv2d(input=input, filter=weights, strides=[1, 1, 1, 1], padding='SAME')\n",
        "  layer += biases\n",
        "  \n",
        "  if use_pooling:\n",
        "    layer = tf.nn.max_pool(value=layer, ksize=[1, 2, 2, 1], strides=[1, 2, 2, 1], padding='SAME')\n",
        "    \n",
        "  layer = tf.nn.relu(layer)\n",
        "  \n",
        "  return layer, weights"
      ],
      "execution_count": 0,
      "outputs": []
    },
    {
      "metadata": {
        "id": "I-OrwurGNkSc",
        "colab_type": "code",
        "colab": {}
      },
      "cell_type": "code",
      "source": [
        "def flatten_layer(layer):\n",
        "  layer_shape = layer.get_shape()\n",
        "  num_features = layer_shape[1:4].num_elements()\n",
        "  flat_layer = tf.reshape(layer, [-1, num_features])\n",
        "  \n",
        "  return flat_layer, num_features"
      ],
      "execution_count": 0,
      "outputs": []
    },
    {
      "metadata": {
        "id": "fF7T0iDeOKqr",
        "colab_type": "code",
        "colab": {}
      },
      "cell_type": "code",
      "source": [
        "def single_fc_layer(input, num_inputs, num_outputs, use_relu=True):\n",
        "  weights = new_weights(shape=[num_inputs, num_outputs])\n",
        "  biases = new_biases(length=num_outputs)\n",
        "  \n",
        "  layer = tf.matmul(input, weights) + biases\n",
        "  \n",
        "  if use_relu:\n",
        "    layer = tf.nn.relu(layer)\n",
        "    \n",
        "  return layer"
      ],
      "execution_count": 0,
      "outputs": []
    },
    {
      "metadata": {
        "id": "gZeif4rYOybV",
        "colab_type": "code",
        "colab": {}
      },
      "cell_type": "code",
      "source": [
        "x = tf.placeholder(tf.float32, shape=[None, img_size_flat], name='x')\n",
        "x_image = tf.reshape(x, [-1, img_size, img_size, num_channels])\n",
        "\n",
        "\n",
        "y_true = tf.placeholder(tf.float32, shape=[None, num_classes], name='y_true')\n",
        "y_true_cls = tf.argmax(y_true, axis=1)\n"
      ],
      "execution_count": 0,
      "outputs": []
    },
    {
      "metadata": {
        "id": "aHY8-Q0dO-SC",
        "colab_type": "code",
        "colab": {}
      },
      "cell_type": "code",
      "source": [
        "convLayer1, convWeights1 = single_conv_layer(input=x_image, num_input_channels=num_channels, filter_size=fs1, num_filters=nf1, use_pooling=True)\n",
        "\n",
        "convLayer2, convWeights2 = single_conv_layer(input=convLayer1, num_input_channels=nf1, filter_size=fs2, num_filters=nf2, use_pooling=True)\n",
        "\n",
        "flat_layer, num_features = flatten_layer(convLayer2)"
      ],
      "execution_count": 0,
      "outputs": []
    },
    {
      "metadata": {
        "id": "EnCzgODXQHoU",
        "colab_type": "code",
        "colab": {}
      },
      "cell_type": "code",
      "source": [
        "fcLayer1 = single_fc_layer(input=flat_layer, num_inputs=num_features, num_outputs=fcs,use_relu=True )\n",
        "fcLayer2 = single_fc_layer(input=fcLayer1, num_inputs=fcs, num_outputs=num_classes, use_relu=False)\n",
        "\n",
        "y_pred = tf.nn.softmax(fcLayer2)\n",
        "y_pred_cls = tf.argmax(y_pred, axis=1)"
      ],
      "execution_count": 0,
      "outputs": []
    },
    {
      "metadata": {
        "id": "c_RaaVp-R9QS",
        "colab_type": "code",
        "colab": {}
      },
      "cell_type": "code",
      "source": [
        "# loss\n",
        "cross_entropy = tf.nn.softmax_cross_entropy_with_logits(logits=fcLayer2, labels=y_true)\n",
        "cost = tf.reduce_mean(cross_entropy)"
      ],
      "execution_count": 0,
      "outputs": []
    },
    {
      "metadata": {
        "id": "W7JdNDnZSqd8",
        "colab_type": "code",
        "colab": {}
      },
      "cell_type": "code",
      "source": [
        "# optimzer\n",
        "optimizer = tf.train.AdamOptimizer(learning_rate=0.0001).minimize(cost)"
      ],
      "execution_count": 0,
      "outputs": []
    },
    {
      "metadata": {
        "id": "SmOoGdIuTIak",
        "colab_type": "code",
        "colab": {}
      },
      "cell_type": "code",
      "source": [
        "#accuracy \n",
        "correct_prediction = tf.equal(y_pred_cls, y_true_cls)\n",
        "accuracy = tf.reduce_mean(tf.cast(correct_prediction, tf.float32))"
      ],
      "execution_count": 0,
      "outputs": []
    },
    {
      "metadata": {
        "id": "0o2FV2O9Tk99",
        "colab_type": "text"
      },
      "cell_type": "markdown",
      "source": [
        "# Tensorflow graph run"
      ]
    },
    {
      "metadata": {
        "id": "EKuYmufBTjpk",
        "colab_type": "code",
        "colab": {}
      },
      "cell_type": "code",
      "source": [
        ""
      ],
      "execution_count": 0,
      "outputs": []
    },
    {
      "metadata": {
        "id": "BZTucz_9TrKv",
        "colab_type": "code",
        "colab": {}
      },
      "cell_type": "code",
      "source": [
        "\n",
        "session = tf.Session()\n",
        "session.run(tf.global_variables_initializer())\n",
        "\n",
        "train_batch_size = 64\n",
        "test_batch_size = 256\n",
        "total_iterations = 0\n",
        "\n",
        "def optimize(num_iterations):\n",
        "    global total_iterations\n",
        "    start_time = time.time()\n",
        "    for i in range(total_iterations,\n",
        "                   total_iterations + num_iterations):\n",
        "        x_batch, y_true_batch = data.train.next_batch(batch_size=train_batch_size)\n",
        "        feed_dict_train = {x: x_batch,y_true: y_true_batch}\n",
        "        session.run(optimizer, feed_dict=feed_dict_train)\n",
        "\n",
        "        if i % 100 == 0:\n",
        "            acc = session.run(accuracy, feed_dict=feed_dict_train)\n",
        "            msg = \"Iteration:{0:>6} --- Accuracy(train): {1:>6.1%}\"\n",
        "            print(msg.format(i, acc))\n",
        "    total_iterations += num_iterations\n",
        "    end_time = time.time()\n",
        "    time_dif = end_time - start_time\n",
        "    print(\"\\nTraining Time : \" + str(timedelta(seconds=int(round(time_dif)))))\n",
        "    \n",
        "    \n",
        "    \n",
        "def plot_example_errors(cls_pred, correct):\n",
        "    incorrect = (correct == False)\n",
        "    images = data.test.images[incorrect]\n",
        "    cls_pred = cls_pred[incorrect]\n",
        "    cls_true = data.test.cls[incorrect]\n",
        "    plot_img(images=images[0:9],cls_true=cls_true[0:9],cls_pred=cls_pred[0:9])\n",
        "    \n",
        "    \n",
        "\n",
        "\n",
        "def print_test_accuracy(show_example_errors=False, show_confusion_matrix=False):\n",
        "    num_test = len(data.test.labels)\n",
        "    cls_pred = np.zeros(shape=num_test, dtype=np.int)\n",
        "    i = 0\n",
        "    while i < num_test:\n",
        "        j = min(i + test_batch_size, num_test)\n",
        "        images = data.test.images[i:j, :]\n",
        "        labels = data.test.labels[i:j, :]\n",
        "        feed_dict = {x: images,y_true: labels}\n",
        "        cls_pred[i:j] = session.run(y_pred_cls, feed_dict=feed_dict)\n",
        "        i = j\n",
        "    cls_true = data.test.cls\n",
        "    correct = (cls_true == cls_pred)\n",
        "    correct_sum = correct.sum()\n",
        "    acc = float(correct_sum) / num_test\n",
        "    msg = \"Accuracy(test): {0:.1%} ({1} / {2})\"\n",
        "    print(msg.format(acc, correct_sum, num_test))\n",
        "    if show_example_errors:\n",
        "        print(\"Example errors:\")\n",
        "        plot_example_errors(cls_pred=cls_pred, correct=correct)\n",
        "    if show_confusion_matrix:\n",
        "        print(\"Confusion Matrix:\")\n",
        "        plot_confusion_matrix(cls_pred=cls_pred)"
      ],
      "execution_count": 0,
      "outputs": []
    },
    {
      "metadata": {
        "id": "3yMN7b5_T-dO",
        "colab_type": "code",
        "colab": {
          "base_uri": "https://localhost:8080/",
          "height": 500
        },
        "outputId": "66795448-51a1-4b3f-e5c1-4d5fc31deeb6"
      },
      "cell_type": "code",
      "source": [
        "optimize(num_iterations=1000)\n",
        "print_test_accuracy(show_example_errors=True)"
      ],
      "execution_count": 152,
      "outputs": [
        {
          "output_type": "stream",
          "text": [
            "Iteration:     0 --- Accuracy(train):  23.4%\n",
            "Iteration:   100 --- Accuracy(train):  57.8%\n",
            "Iteration:   200 --- Accuracy(train):  81.2%\n",
            "Iteration:   300 --- Accuracy(train):  84.4%\n",
            "Iteration:   400 --- Accuracy(train):  95.3%\n",
            "Iteration:   500 --- Accuracy(train):  90.6%\n",
            "Iteration:   600 --- Accuracy(train):  89.1%\n",
            "Iteration:   700 --- Accuracy(train):  84.4%\n",
            "Iteration:   800 --- Accuracy(train):  98.4%\n",
            "Iteration:   900 --- Accuracy(train):  87.5%\n",
            "\n",
            "Training Time : 0:01:23\n",
            "Accuracy(test): 92.8% (9283 / 10000)\n",
            "Example errors:\n"
          ],
          "name": "stdout"
        },
        {
          "output_type": "display_data",
          "data": {
            "image/png": "[encoded data removed]",
            "text/plain": [
              "<matplotlib.figure.Figure at 0x7f7ff1223a20>"
            ]
          },
          "metadata": {
            "tags": []
          }
        }
      ]
    },
    {
      "metadata": {
        "id": "oqiYDksOUHBN",
        "colab_type": "code",
        "colab": {
          "base_uri": "https://localhost:8080/",
          "height": 1860
        },
        "outputId": "9b782354-abf2-45bf-b362-666ec1bf4cae"
      },
      "cell_type": "code",
      "source": [
        "optimize(num_iterations=9000)\n",
        "print_test_accuracy(show_example_errors=True)"
      ],
      "execution_count": 153,
      "outputs": [
        {
          "output_type": "stream",
          "text": [
            "Iteration:  1000 --- Accuracy(train):  92.2%\n",
            "Iteration:  1100 --- Accuracy(train):  93.8%\n",
            "Iteration:  1200 --- Accuracy(train): 100.0%\n",
            "Iteration:  1300 --- Accuracy(train):  96.9%\n",
            "Iteration:  1400 --- Accuracy(train):  85.9%\n",
            "Iteration:  1500 --- Accuracy(train):  95.3%\n",
            "Iteration:  1600 --- Accuracy(train):  96.9%\n",
            "Iteration:  1700 --- Accuracy(train):  96.9%\n",
            "Iteration:  1800 --- Accuracy(train):  93.8%\n",
            "Iteration:  1900 --- Accuracy(train):  95.3%\n",
            "Iteration:  2000 --- Accuracy(train):  93.8%\n",
            "Iteration:  2100 --- Accuracy(train):  95.3%\n",
            "Iteration:  2200 --- Accuracy(train):  96.9%\n",
            "Iteration:  2300 --- Accuracy(train):  95.3%\n",
            "Iteration:  2400 --- Accuracy(train):  92.2%\n",
            "Iteration:  2500 --- Accuracy(train): 100.0%\n",
            "Iteration:  2600 --- Accuracy(train):  92.2%\n",
            "Iteration:  2700 --- Accuracy(train):  92.2%\n",
            "Iteration:  2800 --- Accuracy(train):  92.2%\n",
            "Iteration:  2900 --- Accuracy(train):  96.9%\n",
            "Iteration:  3000 --- Accuracy(train):  98.4%\n",
            "Iteration:  3100 --- Accuracy(train):  96.9%\n",
            "Iteration:  3200 --- Accuracy(train):  98.4%\n",
            "Iteration:  3300 --- Accuracy(train):  95.3%\n",
            "Iteration:  3400 --- Accuracy(train):  95.3%\n",
            "Iteration:  3500 --- Accuracy(train): 100.0%\n",
            "Iteration:  3600 --- Accuracy(train):  98.4%\n",
            "Iteration:  3700 --- Accuracy(train):  96.9%\n",
            "Iteration:  3800 --- Accuracy(train):  98.4%\n",
            "Iteration:  3900 --- Accuracy(train):  96.9%\n",
            "Iteration:  4000 --- Accuracy(train):  98.4%\n",
            "Iteration:  4100 --- Accuracy(train):  98.4%\n",
            "Iteration:  4200 --- Accuracy(train):  98.4%\n",
            "Iteration:  4300 --- Accuracy(train):  96.9%\n",
            "Iteration:  4400 --- Accuracy(train):  98.4%\n",
            "Iteration:  4500 --- Accuracy(train):  95.3%\n",
            "Iteration:  4600 --- Accuracy(train):  98.4%\n",
            "Iteration:  4700 --- Accuracy(train):  98.4%\n",
            "Iteration:  4800 --- Accuracy(train):  98.4%\n",
            "Iteration:  4900 --- Accuracy(train):  98.4%\n",
            "Iteration:  5000 --- Accuracy(train):  98.4%\n",
            "Iteration:  5100 --- Accuracy(train):  96.9%\n",
            "Iteration:  5200 --- Accuracy(train):  98.4%\n",
            "Iteration:  5300 --- Accuracy(train): 100.0%\n",
            "Iteration:  5400 --- Accuracy(train): 100.0%\n",
            "Iteration:  5500 --- Accuracy(train):  96.9%\n",
            "Iteration:  5600 --- Accuracy(train):  93.8%\n",
            "Iteration:  5700 --- Accuracy(train):  98.4%\n",
            "Iteration:  5800 --- Accuracy(train):  98.4%\n",
            "Iteration:  5900 --- Accuracy(train): 100.0%\n",
            "Iteration:  6000 --- Accuracy(train):  98.4%\n",
            "Iteration:  6100 --- Accuracy(train):  98.4%\n",
            "Iteration:  6200 --- Accuracy(train): 100.0%\n",
            "Iteration:  6300 --- Accuracy(train):  96.9%\n",
            "Iteration:  6400 --- Accuracy(train): 100.0%\n",
            "Iteration:  6500 --- Accuracy(train): 100.0%\n",
            "Iteration:  6600 --- Accuracy(train): 100.0%\n",
            "Iteration:  6700 --- Accuracy(train):  96.9%\n",
            "Iteration:  6800 --- Accuracy(train):  93.8%\n",
            "Iteration:  6900 --- Accuracy(train):  95.3%\n",
            "Iteration:  7000 --- Accuracy(train):  98.4%\n",
            "Iteration:  7100 --- Accuracy(train): 100.0%\n",
            "Iteration:  7200 --- Accuracy(train):  98.4%\n",
            "Iteration:  7300 --- Accuracy(train):  98.4%\n",
            "Iteration:  7400 --- Accuracy(train):  98.4%\n",
            "Iteration:  7500 --- Accuracy(train):  98.4%\n",
            "Iteration:  7600 --- Accuracy(train):  98.4%\n",
            "Iteration:  7700 --- Accuracy(train):  98.4%\n",
            "Iteration:  7800 --- Accuracy(train):  98.4%\n",
            "Iteration:  7900 --- Accuracy(train):  98.4%\n",
            "Iteration:  8000 --- Accuracy(train):  96.9%\n",
            "Iteration:  8100 --- Accuracy(train):  96.9%\n",
            "Iteration:  8200 --- Accuracy(train):  96.9%\n",
            "Iteration:  8300 --- Accuracy(train): 100.0%\n",
            "Iteration:  8400 --- Accuracy(train):  98.4%\n",
            "Iteration:  8500 --- Accuracy(train):  96.9%\n",
            "Iteration:  8600 --- Accuracy(train): 100.0%\n",
            "Iteration:  8700 --- Accuracy(train): 100.0%\n",
            "Iteration:  8800 --- Accuracy(train):  98.4%\n",
            "Iteration:  8900 --- Accuracy(train):  98.4%\n",
            "Iteration:  9000 --- Accuracy(train):  95.3%\n",
            "Iteration:  9100 --- Accuracy(train):  98.4%\n",
            "Iteration:  9200 --- Accuracy(train):  98.4%\n",
            "Iteration:  9300 --- Accuracy(train):  98.4%\n",
            "Iteration:  9400 --- Accuracy(train): 100.0%\n",
            "Iteration:  9500 --- Accuracy(train): 100.0%\n",
            "Iteration:  9600 --- Accuracy(train):  96.9%\n",
            "Iteration:  9700 --- Accuracy(train): 100.0%\n",
            "Iteration:  9800 --- Accuracy(train):  98.4%\n",
            "Iteration:  9900 --- Accuracy(train): 100.0%\n",
            "\n",
            "Training Time : 0:12:26\n",
            "Accuracy(test): 98.7% (9865 / 10000)\n",
            "Example errors:\n"
          ],
          "name": "stdout"
        },
        {
          "output_type": "display_data",
          "data": {
            "image/png": "[encoded data removed]",
            "text/plain": [
              "<matplotlib.figure.Figure at 0x7f7ff104c320>"
            ]
          },
          "metadata": {
            "tags": []
          }
        }
      ]
    },
    {
      "metadata": {
        "id": "tNfIe1GNdFU3",
        "colab_type": "code",
        "colab": {}
      },
      "cell_type": "code",
      "source": [
        "data.validation.cls = np.array([label.argmax() for label in data.validation.labels])\n",
        "\n",
        "def print_validation_accuracy(show_example_errors=False, show_confusion_matrix=False):\n",
        "    num_test = len(data.validation.labels)\n",
        "    cls_pred = np.zeros(shape=num_test, dtype=np.int)\n",
        "    i = 0\n",
        "    while i < num_test:\n",
        "        j = min(i + test_batch_size, num_test)\n",
        "        images = data.validation.images[i:j, :]\n",
        "        labels = data.validation.labels[i:j, :]\n",
        "        feed_dict = {x: images,y_true: labels}\n",
        "        cls_pred[i:j] = session.run(y_pred_cls, feed_dict=feed_dict)\n",
        "        i = j\n",
        "    cls_true = data.test.cls\n",
        "    correct = (cls_true == cls_pred)\n",
        "    correct_sum = correct.sum()\n",
        "    acc = float(correct_sum) / num_test\n",
        "    msg = \"Accuracy(test): {0:.1%} ({1} / {2})\"\n",
        "    print(msg.format(acc, correct_sum, num_test))\n",
        "    if show_example_errors:\n",
        "        print(\"Example errors:\")\n",
        "        plot_example_errors(cls_pred=cls_pred, correct=correct)\n",
        "    if show_confusion_matrix:\n",
        "        print(\"Confusion Matrix:\")\n",
        "        plot_confusion_matrix(cls_pred=cls_pred)"
      ],
      "execution_count": 0,
      "outputs": []
    }
  ]
}